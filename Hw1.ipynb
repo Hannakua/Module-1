{
 "cells": [
  {
   "cell_type": "code",
   "execution_count": 3,
   "metadata": {},
   "outputs": [
    {
     "name": "stdout",
     "output_type": "stream",
     "text": [
      "[ 1  2  3  4  5  6  7  8  9 10]\n"
     ]
    }
   ],
   "source": [
    "import numpy as np\n",
    "\n",
    "# 1. Створіть одновимірний масив (вектор) з першими 10-ма натуральними числами та виведіть його значення.\n",
    "\n",
    "a = np.linspace(1, 10, num=10, dtype=int)\n",
    "print(a)"
   ]
  },
  {
   "cell_type": "code",
   "execution_count": 4,
   "metadata": {},
   "outputs": [
    {
     "name": "stdout",
     "output_type": "stream",
     "text": [
      "[[0 0 0]\n",
      " [0 0 0]\n",
      " [0 0 0]]\n"
     ]
    }
   ],
   "source": [
    "# 2. Створіть двовимірний масив (матрицю) розміром 3x3, заповніть його нулями та виведіть його значення.\n",
    "a = np.zeros((3, 3), dtype=int)\n",
    "print(a)"
   ]
  },
  {
   "cell_type": "code",
   "execution_count": 5,
   "metadata": {},
   "outputs": [
    {
     "name": "stdout",
     "output_type": "stream",
     "text": [
      "[[0 0 0]\n",
      " [0 0 0]\n",
      " [0 0 0]]\n"
     ]
    }
   ],
   "source": [
    "# 3. Створіть масив розміром 5x5, заповніть його випадковими цілими числами в діапазоні від 1 до 10 та виведіть його значення.\n",
    "a3 = np.random.randint(1, 11, size=(5, 5))\n",
    "print(a)"
   ]
  },
  {
   "cell_type": "code",
   "execution_count": 6,
   "metadata": {},
   "outputs": [
    {
     "name": "stdout",
     "output_type": "stream",
     "text": [
      "[[0.91665092 0.41349329 0.48692635 0.90444113]\n",
      " [0.15329048 0.9900559  0.8784567  0.50337402]\n",
      " [0.65341164 0.03464008 0.45928385 0.16865697]\n",
      " [0.84085363 0.43778655 0.50228307 0.40283684]]\n"
     ]
    }
   ],
   "source": [
    "# 4. Створіть масив розміром 4x4, заповніть його випадковими дійсними числами в діапазоні від 0 до 1 та виведіть його значення.\n",
    "a = np.random.random_sample((4, 4))\n",
    "print(a)"
   ]
  },
  {
   "cell_type": "code",
   "execution_count": 7,
   "metadata": {},
   "outputs": [
    {
     "name": "stdout",
     "output_type": "stream",
     "text": [
      "[1 7 8 9 5] [10  7  7  3  3] [11 14 15 12  8] [-9  0  1  6  2] [10 49 56 27 15]\n"
     ]
    }
   ],
   "source": [
    "# 5. Створіть два одновимірних масиви розміром 5, заповніть їх випадковими цілими числами в діапазоні від 1 до 10 та виконайте на них поелементні операції додавання, віднімання та множення.\n",
    "a = np.random.randint(1, 11, size=(5))\n",
    "b = np.random.randint(1, 11, size=(5))\n",
    "c = a + b\n",
    "d = a - b\n",
    "k = a * b\n",
    "print(a, b, c, d, k)"
   ]
  },
  {
   "cell_type": "code",
   "execution_count": 8,
   "metadata": {},
   "outputs": [
    {
     "name": "stdout",
     "output_type": "stream",
     "text": [
      "[-55  -7 -28 -51   0  21 -55] [  3 -64  68  75 -21 -37 -43] -3858\n"
     ]
    }
   ],
   "source": [
    "# 6. Створіть два вектори розміром 7, заповніть довільними числами та знайдіть їх скалярний добуток.\n",
    "a = np.random.randint(-100, 100, size=(7))\n",
    "b = np.random.randint(-100, 100, size=(7))\n",
    "c = np.dot(a, b)\n",
    "print(a, b, c)"
   ]
  },
  {
   "cell_type": "code",
   "execution_count": 9,
   "metadata": {},
   "outputs": [
    {
     "name": "stdout",
     "output_type": "stream",
     "text": [
      "[[10  6]\n",
      " [10  1]] [[ 8  4  8]\n",
      " [ 5  6 10]] [[110  76 140]\n",
      " [ 85  46  90]]\n"
     ]
    }
   ],
   "source": [
    "# 7. Створіть дві матриці розміром 2x2 та 2x3, заповніть їх випадковими цілими числами в діапазоні від 1 до 10 та перемножте їх між собою.\n",
    "a = np.random.randint(1, 11, size=(2, 2))\n",
    "b = np.random.randint(1, 11, size=(2, 3))\n",
    "c = np.dot(a, b)\n",
    "print(a, b, c)"
   ]
  },
  {
   "cell_type": "code",
   "execution_count": 10,
   "metadata": {},
   "outputs": [
    {
     "name": "stdout",
     "output_type": "stream",
     "text": [
      "[[ 6  1  8]\n",
      " [ 6 10  7]\n",
      " [ 1  7 10]] [[ 0.10019646  0.09037328 -0.14341847]\n",
      " [-0.10412574  0.1021611   0.01178782]\n",
      " [ 0.06286837 -0.0805501   0.10609037]]\n"
     ]
    }
   ],
   "source": [
    "# 8. Створіть матрицю розміром 3x3, заповніть її випадковими цілими числами в діапазоні від 1 до 10 та знайдіть її обернену матрицю.\n",
    "a = np.random.randint(1, 11, size=(3, 3))\n",
    "b = np.linalg.inv(a)\n",
    "print(a, b)"
   ]
  },
  {
   "cell_type": "code",
   "execution_count": 11,
   "metadata": {},
   "outputs": [
    {
     "name": "stdout",
     "output_type": "stream",
     "text": [
      "[[0.19368977 0.31970255 0.96414534 0.51125347]\n",
      " [0.12845752 0.5239085  0.50811624 0.62286788]\n",
      " [0.55642441 0.4418077  0.1863146  0.46211531]\n",
      " [0.42124882 0.95547537 0.84420428 0.50713938]] [[0.19368977 0.12845752 0.55642441 0.42124882]\n",
      " [0.31970255 0.5239085  0.4418077  0.95547537]\n",
      " [0.96414534 0.50811624 0.1863146  0.84420428]\n",
      " [0.51125347 0.62286788 0.46211531 0.50713938]]\n"
     ]
    }
   ],
   "source": [
    "# 9. Створіть матрицю розміром 4x4, заповніть її випадковими дійсними числами в діапазоні від 0 до 1 та транспонуйте її.\n",
    "a = np.random.random_sample((4, 4))\n",
    "b = a.T\n",
    "print(a, b)"
   ]
  },
  {
   "cell_type": "code",
   "execution_count": 12,
   "metadata": {},
   "outputs": [
    {
     "name": "stdout",
     "output_type": "stream",
     "text": [
      "[[ 3  6  2  1]\n",
      " [ 1  6  7  3]\n",
      " [ 7 10  5  2]] [ 2 10  8  1] [ 83 121 156]\n"
     ]
    }
   ],
   "source": [
    "# 10. Створіть матрицю розміром 3x4 та вектор розміром 4, заповніть їх випадковими цілими числами в діапазоні від 1 до 10 та перемножте матрицю на вектор.\n",
    "a = np.random.randint(1, 11, size=(3, 4))\n",
    "b = np.random.randint(1, 11, size=(4))\n",
    "c = np.dot(a, b)\n",
    "print(a, b, c)"
   ]
  },
  {
   "cell_type": "code",
   "execution_count": 13,
   "metadata": {},
   "outputs": [
    {
     "name": "stdout",
     "output_type": "stream",
     "text": [
      "[[0.45701405 0.41488972 0.81091031]\n",
      " [0.52521825 0.42024493 0.19251037]] [0.17786368 0.10870526 0.82757882] [0.7974791  0.29841759]\n"
     ]
    }
   ],
   "source": [
    "# 11. Створіть матрицю розміром 2x3 та вектор розміром 3, заповніть їх випадковими дійсними числами в діапазоні від 0 до 1 та перемножте матрицю на вектор.\n",
    "a = np.random.random_sample((2, 3))\n",
    "b = np.random.random_sample((3,))\n",
    "c = np.dot(a, b)\n",
    "print(a, b, c)"
   ]
  },
  {
   "cell_type": "code",
   "execution_count": 14,
   "metadata": {},
   "outputs": [
    {
     "name": "stdout",
     "output_type": "stream",
     "text": [
      "[[8 5]\n",
      " [9 3]] [[5 3]\n",
      " [9 8]] [[40 15]\n",
      " [81 24]]\n"
     ]
    }
   ],
   "source": [
    "# 12. Створіть дві матриці розміром 2x2, заповніть їх випадковими цілими числами в діапазоні від 1 до 10 та виконайте їхнє поелементне множення.\n",
    "a = np.random.randint(1, 11, size=(2, 2))\n",
    "b = np.random.randint(1, 11, size=(2, 2))\n",
    "c = a * b\n",
    "print(a, b, c)"
   ]
  },
  {
   "cell_type": "code",
   "execution_count": 15,
   "metadata": {},
   "outputs": [
    {
     "name": "stdout",
     "output_type": "stream",
     "text": [
      "[[8 7]\n",
      " [7 4]] [[ 7 10]\n",
      " [ 3 10]] [[ 77 150]\n",
      " [ 61 110]]\n"
     ]
    }
   ],
   "source": [
    "# 13. Створіть дві матриці розміром 2x2, заповніть їх випадковими цілими числами в діапазоні від 1 до 10 та знайдіть їх добуток.\n",
    "a = np.random.randint(1, 11, size=(2, 2))\n",
    "b = np.random.randint(1, 11, size=(2, 2))\n",
    "c = np.dot(a, b)\n",
    "print(a, b, c)"
   ]
  },
  {
   "cell_type": "code",
   "execution_count": 16,
   "metadata": {},
   "outputs": [
    {
     "name": "stdout",
     "output_type": "stream",
     "text": [
      "1072\n"
     ]
    }
   ],
   "source": [
    "# 14. Створіть матрицю розміром 5x5, заповніть її випадковими цілими числами в діапазоні від 1 до 100 та знайдіть суму елементів матриці.\n",
    "a = np.random.randint(1, 101, size=(5, 5))\n",
    "sum_el = a.sum()\n",
    "print(sum_el)"
   ]
  },
  {
   "cell_type": "code",
   "execution_count": 17,
   "metadata": {},
   "outputs": [
    {
     "name": "stdout",
     "output_type": "stream",
     "text": [
      "[[ 5  8  1  7]\n",
      " [ 1  1  7  4]\n",
      " [ 5  1  3  8]\n",
      " [ 9  6 10  2]] [[ 9  4 10  5]\n",
      " [ 3  7  6  6]\n",
      " [ 1  4  6  6]\n",
      " [10  3  6 10]] [[-4  4 -9  2]\n",
      " [-2 -6  1 -2]\n",
      " [ 4 -3 -3  2]\n",
      " [-1  3  4 -8]]\n"
     ]
    }
   ],
   "source": [
    "# 15. Створіть дві матриці розміром 4x4, заповніть їх випадковими цілими числами в діапазоні від 1 до 10 та знайдіть їхню різницю.\n",
    "a = np.random.randint(1, 11, size=(4, 4))\n",
    "b = np.random.randint(1, 11, size=(4, 4))\n",
    "c = a - b\n",
    "print(a, b, c)"
   ]
  },
  {
   "cell_type": "code",
   "execution_count": 18,
   "metadata": {},
   "outputs": [
    {
     "name": "stdout",
     "output_type": "stream",
     "text": [
      "[[0.392425   0.46323675 0.34015437]\n",
      " [0.68380218 0.08324566 0.59588628]\n",
      " [0.87617181 0.83020976 0.39838917]] [[1.19581611]\n",
      " [1.36293413]\n",
      " [2.10477073]]\n"
     ]
    }
   ],
   "source": [
    "# 16. Створіть матрицю розміром 3x3, заповніть її випадковими дійсними числами в діапазоні від 0 до 1 та знайдіть вектор-стовпчик, що містить суму елементів кожного рядка матриці.\n",
    "a = np.random.random_sample((3, 3))\n",
    "b = a.sum(axis=1)\n",
    "c = b.reshape(3, 1)\n",
    "print(a, c)"
   ]
  },
  {
   "cell_type": "code",
   "execution_count": 19,
   "metadata": {},
   "outputs": [
    {
     "name": "stdout",
     "output_type": "stream",
     "text": [
      "[[-35  48  18 -15]\n",
      " [-46  50 -65 -88]\n",
      " [ 87  19  52   3]] [[1225 2304  324  225]\n",
      " [2116 2500 4225 7744]\n",
      " [7569  361 2704    9]]\n"
     ]
    }
   ],
   "source": [
    "# 17. Створіть матрицю розміром 3x4 з довільними цілими числами і створінь матрицю з квадратами цих чисел.\n",
    "a = np.random.randint(-100, 100, size=(3, 4))\n",
    "b = a * a\n",
    "print(a, b)"
   ]
  },
  {
   "cell_type": "code",
   "execution_count": 20,
   "metadata": {},
   "outputs": [
    {
     "name": "stdout",
     "output_type": "stream",
     "text": [
      "[15  5 30 20] [3.87298335 2.23606798 5.47722558 4.47213595]\n"
     ]
    }
   ],
   "source": [
    "# 18. Створіть вектор розміром 4, заповніть його випадковими цілими числами в діапазоні від 1 до 50 та знайдіть вектор з квадратними коренями цих чисел.\n",
    "a = np.random.randint(1, 51, size=(4,))\n",
    "b = np.sqrt(a)\n",
    "print(a, b)"
   ]
  },
  {
   "cell_type": "code",
   "execution_count": null,
   "metadata": {},
   "outputs": [],
   "source": []
  }
 ],
 "metadata": {
  "kernelspec": {
   "display_name": "Python 3 (ipykernel)",
   "language": "python",
   "name": "python3"
  },
  "language_info": {
   "codemirror_mode": {
    "name": "ipython",
    "version": 3
   },
   "file_extension": ".py",
   "mimetype": "text/x-python",
   "name": "python",
   "nbconvert_exporter": "python",
   "pygments_lexer": "ipython3",
   "version": "3.11.3"
  }
 },
 "nbformat": 4,
 "nbformat_minor": 4
}
